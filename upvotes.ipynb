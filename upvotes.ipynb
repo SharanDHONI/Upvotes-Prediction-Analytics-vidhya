{
 "cells": [
  {
   "cell_type": "code",
   "execution_count": 1,
   "id": "028de61e",
   "metadata": {},
   "outputs": [],
   "source": [
    "import pandas as pd\n",
    "import numpy as np\n",
    "import matplotlib.pyplot as plt\n",
    "import seaborn as sns\n",
    "import warnings\n",
    "warnings.filterwarnings('ignore')"
   ]
  },
  {
   "cell_type": "code",
   "execution_count": 2,
   "id": "b1cc5d90",
   "metadata": {},
   "outputs": [],
   "source": [
    "df = pd.read_csv('train_NIR5Yl1.csv')"
   ]
  },
  {
   "cell_type": "code",
   "execution_count": 3,
   "id": "9ec82d91",
   "metadata": {},
   "outputs": [
    {
     "data": {
      "text/html": [
       "<div>\n",
       "<style scoped>\n",
       "    .dataframe tbody tr th:only-of-type {\n",
       "        vertical-align: middle;\n",
       "    }\n",
       "\n",
       "    .dataframe tbody tr th {\n",
       "        vertical-align: top;\n",
       "    }\n",
       "\n",
       "    .dataframe thead th {\n",
       "        text-align: right;\n",
       "    }\n",
       "</style>\n",
       "<table border=\"1\" class=\"dataframe\">\n",
       "  <thead>\n",
       "    <tr style=\"text-align: right;\">\n",
       "      <th></th>\n",
       "      <th>ID</th>\n",
       "      <th>Tag</th>\n",
       "      <th>Reputation</th>\n",
       "      <th>Answers</th>\n",
       "      <th>Username</th>\n",
       "      <th>Views</th>\n",
       "      <th>Upvotes</th>\n",
       "    </tr>\n",
       "  </thead>\n",
       "  <tbody>\n",
       "    <tr>\n",
       "      <th>0</th>\n",
       "      <td>52664</td>\n",
       "      <td>a</td>\n",
       "      <td>3942.0</td>\n",
       "      <td>2.0</td>\n",
       "      <td>155623</td>\n",
       "      <td>7855.0</td>\n",
       "      <td>42.0</td>\n",
       "    </tr>\n",
       "    <tr>\n",
       "      <th>1</th>\n",
       "      <td>327662</td>\n",
       "      <td>a</td>\n",
       "      <td>26046.0</td>\n",
       "      <td>12.0</td>\n",
       "      <td>21781</td>\n",
       "      <td>55801.0</td>\n",
       "      <td>1175.0</td>\n",
       "    </tr>\n",
       "    <tr>\n",
       "      <th>2</th>\n",
       "      <td>468453</td>\n",
       "      <td>c</td>\n",
       "      <td>1358.0</td>\n",
       "      <td>4.0</td>\n",
       "      <td>56177</td>\n",
       "      <td>8067.0</td>\n",
       "      <td>60.0</td>\n",
       "    </tr>\n",
       "    <tr>\n",
       "      <th>3</th>\n",
       "      <td>96996</td>\n",
       "      <td>a</td>\n",
       "      <td>264.0</td>\n",
       "      <td>3.0</td>\n",
       "      <td>168793</td>\n",
       "      <td>27064.0</td>\n",
       "      <td>9.0</td>\n",
       "    </tr>\n",
       "    <tr>\n",
       "      <th>4</th>\n",
       "      <td>131465</td>\n",
       "      <td>c</td>\n",
       "      <td>4271.0</td>\n",
       "      <td>4.0</td>\n",
       "      <td>112223</td>\n",
       "      <td>13986.0</td>\n",
       "      <td>83.0</td>\n",
       "    </tr>\n",
       "  </tbody>\n",
       "</table>\n",
       "</div>"
      ],
      "text/plain": [
       "       ID Tag  Reputation  Answers  Username    Views  Upvotes\n",
       "0   52664   a      3942.0      2.0    155623   7855.0     42.0\n",
       "1  327662   a     26046.0     12.0     21781  55801.0   1175.0\n",
       "2  468453   c      1358.0      4.0     56177   8067.0     60.0\n",
       "3   96996   a       264.0      3.0    168793  27064.0      9.0\n",
       "4  131465   c      4271.0      4.0    112223  13986.0     83.0"
      ]
     },
     "execution_count": 3,
     "metadata": {},
     "output_type": "execute_result"
    }
   ],
   "source": [
    "df.head()"
   ]
  },
  {
   "cell_type": "code",
   "execution_count": 4,
   "id": "1eaf98bf",
   "metadata": {},
   "outputs": [
    {
     "name": "stdout",
     "output_type": "stream",
     "text": [
      "<class 'pandas.core.frame.DataFrame'>\n",
      "RangeIndex: 330045 entries, 0 to 330044\n",
      "Data columns (total 7 columns):\n",
      " #   Column      Non-Null Count   Dtype  \n",
      "---  ------      --------------   -----  \n",
      " 0   ID          330045 non-null  int64  \n",
      " 1   Tag         330045 non-null  object \n",
      " 2   Reputation  330045 non-null  float64\n",
      " 3   Answers     330045 non-null  float64\n",
      " 4   Username    330045 non-null  int64  \n",
      " 5   Views       330045 non-null  float64\n",
      " 6   Upvotes     330045 non-null  float64\n",
      "dtypes: float64(4), int64(2), object(1)\n",
      "memory usage: 17.6+ MB\n"
     ]
    }
   ],
   "source": [
    "df.info()"
   ]
  },
  {
   "cell_type": "code",
   "execution_count": 5,
   "id": "7fd33b86",
   "metadata": {},
   "outputs": [
    {
     "data": {
      "text/html": [
       "<div>\n",
       "<style scoped>\n",
       "    .dataframe tbody tr th:only-of-type {\n",
       "        vertical-align: middle;\n",
       "    }\n",
       "\n",
       "    .dataframe tbody tr th {\n",
       "        vertical-align: top;\n",
       "    }\n",
       "\n",
       "    .dataframe thead th {\n",
       "        text-align: right;\n",
       "    }\n",
       "</style>\n",
       "<table border=\"1\" class=\"dataframe\">\n",
       "  <thead>\n",
       "    <tr style=\"text-align: right;\">\n",
       "      <th></th>\n",
       "      <th>count</th>\n",
       "      <th>mean</th>\n",
       "      <th>std</th>\n",
       "      <th>min</th>\n",
       "      <th>25%</th>\n",
       "      <th>50%</th>\n",
       "      <th>75%</th>\n",
       "      <th>max</th>\n",
       "    </tr>\n",
       "  </thead>\n",
       "  <tbody>\n",
       "    <tr>\n",
       "      <th>ID</th>\n",
       "      <td>330045.0</td>\n",
       "      <td>235748.682789</td>\n",
       "      <td>136039.418471</td>\n",
       "      <td>1.0</td>\n",
       "      <td>117909.0</td>\n",
       "      <td>235699.0</td>\n",
       "      <td>353620.0</td>\n",
       "      <td>471493.0</td>\n",
       "    </tr>\n",
       "    <tr>\n",
       "      <th>Reputation</th>\n",
       "      <td>330045.0</td>\n",
       "      <td>7773.146798</td>\n",
       "      <td>27061.412587</td>\n",
       "      <td>0.0</td>\n",
       "      <td>282.0</td>\n",
       "      <td>1236.0</td>\n",
       "      <td>5118.0</td>\n",
       "      <td>1042428.0</td>\n",
       "    </tr>\n",
       "    <tr>\n",
       "      <th>Answers</th>\n",
       "      <td>330045.0</td>\n",
       "      <td>3.917672</td>\n",
       "      <td>3.579515</td>\n",
       "      <td>0.0</td>\n",
       "      <td>2.0</td>\n",
       "      <td>3.0</td>\n",
       "      <td>5.0</td>\n",
       "      <td>76.0</td>\n",
       "    </tr>\n",
       "    <tr>\n",
       "      <th>Username</th>\n",
       "      <td>330045.0</td>\n",
       "      <td>81442.888803</td>\n",
       "      <td>49215.100730</td>\n",
       "      <td>0.0</td>\n",
       "      <td>39808.0</td>\n",
       "      <td>79010.0</td>\n",
       "      <td>122559.0</td>\n",
       "      <td>175738.0</td>\n",
       "    </tr>\n",
       "    <tr>\n",
       "      <th>Views</th>\n",
       "      <td>330045.0</td>\n",
       "      <td>29645.071342</td>\n",
       "      <td>80956.456478</td>\n",
       "      <td>9.0</td>\n",
       "      <td>2594.0</td>\n",
       "      <td>8954.0</td>\n",
       "      <td>26870.0</td>\n",
       "      <td>5231058.0</td>\n",
       "    </tr>\n",
       "    <tr>\n",
       "      <th>Upvotes</th>\n",
       "      <td>330045.0</td>\n",
       "      <td>337.505358</td>\n",
       "      <td>3592.441135</td>\n",
       "      <td>0.0</td>\n",
       "      <td>8.0</td>\n",
       "      <td>28.0</td>\n",
       "      <td>107.0</td>\n",
       "      <td>615278.0</td>\n",
       "    </tr>\n",
       "  </tbody>\n",
       "</table>\n",
       "</div>"
      ],
      "text/plain": [
       "               count           mean            std  min       25%       50%  \\\n",
       "ID          330045.0  235748.682789  136039.418471  1.0  117909.0  235699.0   \n",
       "Reputation  330045.0    7773.146798   27061.412587  0.0     282.0    1236.0   \n",
       "Answers     330045.0       3.917672       3.579515  0.0       2.0       3.0   \n",
       "Username    330045.0   81442.888803   49215.100730  0.0   39808.0   79010.0   \n",
       "Views       330045.0   29645.071342   80956.456478  9.0    2594.0    8954.0   \n",
       "Upvotes     330045.0     337.505358    3592.441135  0.0       8.0      28.0   \n",
       "\n",
       "                 75%        max  \n",
       "ID          353620.0   471493.0  \n",
       "Reputation    5118.0  1042428.0  \n",
       "Answers          5.0       76.0  \n",
       "Username    122559.0   175738.0  \n",
       "Views        26870.0  5231058.0  \n",
       "Upvotes        107.0   615278.0  "
      ]
     },
     "execution_count": 5,
     "metadata": {},
     "output_type": "execute_result"
    }
   ],
   "source": [
    "df.describe().transpose()"
   ]
  },
  {
   "cell_type": "code",
   "execution_count": null,
   "id": "ad670daa",
   "metadata": {},
   "outputs": [],
   "source": []
  },
  {
   "cell_type": "code",
   "execution_count": 6,
   "id": "284443d4",
   "metadata": {},
   "outputs": [
    {
     "data": {
      "text/html": [
       "<div>\n",
       "<style scoped>\n",
       "    .dataframe tbody tr th:only-of-type {\n",
       "        vertical-align: middle;\n",
       "    }\n",
       "\n",
       "    .dataframe tbody tr th {\n",
       "        vertical-align: top;\n",
       "    }\n",
       "\n",
       "    .dataframe thead th {\n",
       "        text-align: right;\n",
       "    }\n",
       "</style>\n",
       "<table border=\"1\" class=\"dataframe\">\n",
       "  <thead>\n",
       "    <tr style=\"text-align: right;\">\n",
       "      <th></th>\n",
       "      <th>ID</th>\n",
       "      <th>Tag</th>\n",
       "      <th>Reputation</th>\n",
       "      <th>Answers</th>\n",
       "      <th>Username</th>\n",
       "      <th>Views</th>\n",
       "      <th>Upvotes</th>\n",
       "    </tr>\n",
       "  </thead>\n",
       "  <tbody>\n",
       "    <tr>\n",
       "      <th>330040</th>\n",
       "      <td>339800</td>\n",
       "      <td>c</td>\n",
       "      <td>36.0</td>\n",
       "      <td>2.0</td>\n",
       "      <td>84919</td>\n",
       "      <td>1063.0</td>\n",
       "      <td>0.0</td>\n",
       "    </tr>\n",
       "    <tr>\n",
       "      <th>330041</th>\n",
       "      <td>253800</td>\n",
       "      <td>c</td>\n",
       "      <td>1649.0</td>\n",
       "      <td>2.0</td>\n",
       "      <td>76730</td>\n",
       "      <td>23319.0</td>\n",
       "      <td>73.0</td>\n",
       "    </tr>\n",
       "    <tr>\n",
       "      <th>330042</th>\n",
       "      <td>210756</td>\n",
       "      <td>c</td>\n",
       "      <td>6178.0</td>\n",
       "      <td>2.0</td>\n",
       "      <td>91701</td>\n",
       "      <td>2453.0</td>\n",
       "      <td>15.0</td>\n",
       "    </tr>\n",
       "    <tr>\n",
       "      <th>330043</th>\n",
       "      <td>56089</td>\n",
       "      <td>j</td>\n",
       "      <td>89.0</td>\n",
       "      <td>2.0</td>\n",
       "      <td>80245</td>\n",
       "      <td>2107.0</td>\n",
       "      <td>3.0</td>\n",
       "    </tr>\n",
       "    <tr>\n",
       "      <th>330044</th>\n",
       "      <td>300553</td>\n",
       "      <td>j</td>\n",
       "      <td>2001.0</td>\n",
       "      <td>4.0</td>\n",
       "      <td>154692</td>\n",
       "      <td>2554.0</td>\n",
       "      <td>37.0</td>\n",
       "    </tr>\n",
       "  </tbody>\n",
       "</table>\n",
       "</div>"
      ],
      "text/plain": [
       "            ID Tag  Reputation  Answers  Username    Views  Upvotes\n",
       "330040  339800   c        36.0      2.0     84919   1063.0      0.0\n",
       "330041  253800   c      1649.0      2.0     76730  23319.0     73.0\n",
       "330042  210756   c      6178.0      2.0     91701   2453.0     15.0\n",
       "330043   56089   j        89.0      2.0     80245   2107.0      3.0\n",
       "330044  300553   j      2001.0      4.0    154692   2554.0     37.0"
      ]
     },
     "execution_count": 6,
     "metadata": {},
     "output_type": "execute_result"
    }
   ],
   "source": [
    "df.tail()"
   ]
  },
  {
   "cell_type": "code",
   "execution_count": 7,
   "id": "f36ee378",
   "metadata": {},
   "outputs": [
    {
     "data": {
      "image/png": "[encoded data removed]",
      "text/plain": [
       "<Figure size 720x576 with 2 Axes>"
      ]
     },
     "metadata": {
      "needs_background": "light"
     },
     "output_type": "display_data"
    }
   ],
   "source": [
    "plt.figure(figsize=(10,8))\n",
    "sns.heatmap(df.corr(),annot=True)\n",
    "plt.show()"
   ]
  },
  {
   "cell_type": "code",
   "execution_count": null,
   "id": "29d80e1c",
   "metadata": {},
   "outputs": [],
   "source": []
  },
  {
   "cell_type": "markdown",
   "id": "885dae59",
   "metadata": {},
   "source": [
    "### Checking for outliers"
   ]
  },
  {
   "cell_type": "code",
   "execution_count": 8,
   "id": "b63c0b48",
   "metadata": {},
   "outputs": [
    {
     "name": "stdout",
     "output_type": "stream",
     "text": [
      "ID \n",
      "\n"
     ]
    },
    {
     "data": {
      "image/png": "[encoded data removed]",
      "text/plain": [
       "<Figure size 432x288 with 1 Axes>"
      ]
     },
     "metadata": {
      "needs_background": "light"
     },
     "output_type": "display_data"
    },
    {
     "name": "stdout",
     "output_type": "stream",
     "text": [
      "---------------------------------------------------------------------------------------------------- \n",
      "\n",
      "Reputation \n",
      "\n"
     ]
    },
    {
     "data": {
      "image/png": "[encoded data removed]",
      "text/plain": [
       "<Figure size 432x288 with 1 Axes>"
      ]
     },
     "metadata": {
      "needs_background": "light"
     },
     "output_type": "display_data"
    },
    {
     "name": "stdout",
     "output_type": "stream",
     "text": [
      "---------------------------------------------------------------------------------------------------- \n",
      "\n",
      "Answers \n",
      "\n"
     ]
    },
    {
     "data": {
      "image/png": "[encoded data removed]",
      "text/plain": [
       "<Figure size 432x288 with 1 Axes>"
      ]
     },
     "metadata": {
      "needs_background": "light"
     },
     "output_type": "display_data"
    },
    {
     "name": "stdout",
     "output_type": "stream",
     "text": [
      "---------------------------------------------------------------------------------------------------- \n",
      "\n",
      "Username \n",
      "\n"
     ]
    },
    {
     "data": {
      "image/png": "[encoded data removed]",
      "text/plain": [
       "<Figure size 432x288 with 1 Axes>"
      ]
     },
     "metadata": {
      "needs_background": "light"
     },
     "output_type": "display_data"
    },
    {
     "name": "stdout",
     "output_type": "stream",
     "text": [
      "---------------------------------------------------------------------------------------------------- \n",
      "\n",
      "Views \n",
      "\n"
     ]
    },
    {
     "data": {
      "image/png": "[encoded data removed]",
      "text/plain": [
       "<Figure size 432x288 with 1 Axes>"
      ]
     },
     "metadata": {
      "needs_background": "light"
     },
     "output_type": "display_data"
    },
    {
     "name": "stdout",
     "output_type": "stream",
     "text": [
      "---------------------------------------------------------------------------------------------------- \n",
      "\n",
      "Upvotes \n",
      "\n"
     ]
    },
    {
     "data": {
      "image/png": "[encoded data removed]",
      "text/plain": [
       "<Figure size 432x288 with 1 Axes>"
      ]
     },
     "metadata": {
      "needs_background": "light"
     },
     "output_type": "display_data"
    },
    {
     "name": "stdout",
     "output_type": "stream",
     "text": [
      "---------------------------------------------------------------------------------------------------- \n",
      "\n"
     ]
    }
   ],
   "source": [
    "for i in df.columns:\n",
    "    if df[i].dtype != 'object':\n",
    "        print(i,'\\n')\n",
    "        sns.boxplot(df[i])\n",
    "        plt.grid()\n",
    "        plt.show()\n",
    "        \n",
    "        print('--'*50,'\\n')"
   ]
  },
  {
   "cell_type": "code",
   "execution_count": null,
   "id": "368c1319",
   "metadata": {},
   "outputs": [],
   "source": []
  },
  {
   "cell_type": "code",
   "execution_count": null,
   "id": "9c46d868",
   "metadata": {},
   "outputs": [],
   "source": []
  },
  {
   "cell_type": "code",
   "execution_count": 9,
   "id": "d5b7c108",
   "metadata": {},
   "outputs": [
    {
     "data": {
      "text/html": [
       "<div>\n",
       "<style scoped>\n",
       "    .dataframe tbody tr th:only-of-type {\n",
       "        vertical-align: middle;\n",
       "    }\n",
       "\n",
       "    .dataframe tbody tr th {\n",
       "        vertical-align: top;\n",
       "    }\n",
       "\n",
       "    .dataframe thead th {\n",
       "        text-align: right;\n",
       "    }\n",
       "</style>\n",
       "<table border=\"1\" class=\"dataframe\">\n",
       "  <thead>\n",
       "    <tr style=\"text-align: right;\">\n",
       "      <th></th>\n",
       "      <th>Upvotes</th>\n",
       "      <th>Tag</th>\n",
       "    </tr>\n",
       "  </thead>\n",
       "  <tbody>\n",
       "    <tr>\n",
       "      <th>0</th>\n",
       "      <td>540.364686</td>\n",
       "      <td>j</td>\n",
       "    </tr>\n",
       "    <tr>\n",
       "      <th>1</th>\n",
       "      <td>407.351971</td>\n",
       "      <td>p</td>\n",
       "    </tr>\n",
       "    <tr>\n",
       "      <th>2</th>\n",
       "      <td>384.719704</td>\n",
       "      <td>h</td>\n",
       "    </tr>\n",
       "    <tr>\n",
       "      <th>3</th>\n",
       "      <td>327.569916</td>\n",
       "      <td>c</td>\n",
       "    </tr>\n",
       "    <tr>\n",
       "      <th>4</th>\n",
       "      <td>316.460136</td>\n",
       "      <td>a</td>\n",
       "    </tr>\n",
       "  </tbody>\n",
       "</table>\n",
       "</div>"
      ],
      "text/plain": [
       "      Upvotes Tag\n",
       "0  540.364686   j\n",
       "1  407.351971   p\n",
       "2  384.719704   h\n",
       "3  327.569916   c\n",
       "4  316.460136   a"
      ]
     },
     "execution_count": 9,
     "metadata": {},
     "output_type": "execute_result"
    }
   ],
   "source": [
    "tag_upv = pd.DataFrame(df.Upvotes.groupby(df.Tag).mean().sort_values(ascending=False))\n",
    "tag_upv['Tag'] = tag_upv.index\n",
    "tag_upv.index = np.arange(0,len(tag_upv))\n",
    "tag_upv.head()"
   ]
  },
  {
   "cell_type": "code",
   "execution_count": 10,
   "id": "2542d5cd",
   "metadata": {},
   "outputs": [
    {
     "data": {
      "text/html": [
       "<div>\n",
       "<style scoped>\n",
       "    .dataframe tbody tr th:only-of-type {\n",
       "        vertical-align: middle;\n",
       "    }\n",
       "\n",
       "    .dataframe tbody tr th {\n",
       "        vertical-align: top;\n",
       "    }\n",
       "\n",
       "    .dataframe thead th {\n",
       "        text-align: right;\n",
       "    }\n",
       "</style>\n",
       "<table border=\"1\" class=\"dataframe\">\n",
       "  <thead>\n",
       "    <tr style=\"text-align: right;\">\n",
       "      <th></th>\n",
       "      <th>Upvotes</th>\n",
       "      <th>ans</th>\n",
       "    </tr>\n",
       "  </thead>\n",
       "  <tbody>\n",
       "    <tr>\n",
       "      <th>0</th>\n",
       "      <td>261157.000000</td>\n",
       "      <td>59.0</td>\n",
       "    </tr>\n",
       "    <tr>\n",
       "      <th>1</th>\n",
       "      <td>153559.000000</td>\n",
       "      <td>66.0</td>\n",
       "    </tr>\n",
       "    <tr>\n",
       "      <th>2</th>\n",
       "      <td>84511.000000</td>\n",
       "      <td>53.0</td>\n",
       "    </tr>\n",
       "    <tr>\n",
       "      <th>3</th>\n",
       "      <td>49615.250000</td>\n",
       "      <td>50.0</td>\n",
       "    </tr>\n",
       "    <tr>\n",
       "      <th>4</th>\n",
       "      <td>44990.916667</td>\n",
       "      <td>39.0</td>\n",
       "    </tr>\n",
       "  </tbody>\n",
       "</table>\n",
       "</div>"
      ],
      "text/plain": [
       "         Upvotes   ans\n",
       "0  261157.000000  59.0\n",
       "1  153559.000000  66.0\n",
       "2   84511.000000  53.0\n",
       "3   49615.250000  50.0\n",
       "4   44990.916667  39.0"
      ]
     },
     "execution_count": 10,
     "metadata": {},
     "output_type": "execute_result"
    }
   ],
   "source": [
    "ans_upv = pd.DataFrame(df.Upvotes.groupby(df.Answers).mean().sort_values(ascending=False))\n",
    "ans_upv['ans'] = ans_upv.index\n",
    "ans_upv.index = np.arange(0,len(ans_upv))\n",
    "ans_upv.head()"
   ]
  },
  {
   "cell_type": "code",
   "execution_count": null,
   "id": "021b0dbc",
   "metadata": {},
   "outputs": [],
   "source": []
  },
  {
   "cell_type": "code",
   "execution_count": 11,
   "id": "4b86b50a",
   "metadata": {},
   "outputs": [],
   "source": [
    "from sklearn.linear_model import LinearRegression\n",
    "from sklearn.neighbors import KNeighborsRegressor\n",
    "from sklearn.svm import SVR\n",
    "from sklearn.tree import DecisionTreeRegressor\n",
    "from sklearn.ensemble import RandomForestRegressor, GradientBoostingRegressor, AdaBoostRegressor\n",
    "from xgboost import XGBRegressor\n",
    "from xgboost import XGBRFRegressor\n",
    "from catboost import CatBoostRegressor\n",
    "from lightgbm import LGBMRegressor\n",
    "from sklearn.model_selection import train_test_split \n",
    "from sklearn.metrics import mean_squared_error, r2_score\n",
    "from sklearn.preprocessing import LabelEncoder"
   ]
  },
  {
   "cell_type": "markdown",
   "id": "4dc19bcd",
   "metadata": {},
   "source": [
    "### OLS"
   ]
  },
  {
   "cell_type": "code",
   "execution_count": 12,
   "id": "b31bd73f",
   "metadata": {},
   "outputs": [],
   "source": [
    "# import statsmodels.api as sm"
   ]
  },
  {
   "cell_type": "code",
   "execution_count": 13,
   "id": "ac2a1a04",
   "metadata": {},
   "outputs": [],
   "source": [
    "# x = df.drop('Upvotes',1)\n",
    "# y = df.Upvotes"
   ]
  },
  {
   "cell_type": "code",
   "execution_count": 14,
   "id": "0729dd95",
   "metadata": {},
   "outputs": [],
   "source": [
    "# x = sm.add_constant(x)"
   ]
  },
  {
   "cell_type": "code",
   "execution_count": 15,
   "id": "8f3fe45f",
   "metadata": {},
   "outputs": [],
   "source": [
    "# x.drop('Tag',axis=1,inplace=True)"
   ]
  },
  {
   "cell_type": "code",
   "execution_count": 16,
   "id": "bb9ffa3c",
   "metadata": {},
   "outputs": [],
   "source": [
    "# model = sm.OLS(y,x)\n",
    "# result = model.fit()"
   ]
  },
  {
   "cell_type": "code",
   "execution_count": 17,
   "id": "aefc8e6c",
   "metadata": {},
   "outputs": [],
   "source": [
    "# result.tvalues"
   ]
  },
  {
   "cell_type": "code",
   "execution_count": 18,
   "id": "3d78bbbb",
   "metadata": {},
   "outputs": [],
   "source": [
    "# result.pvalues"
   ]
  },
  {
   "cell_type": "code",
   "execution_count": 19,
   "id": "e9fc54c6",
   "metadata": {},
   "outputs": [],
   "source": [
    "# result.summary()"
   ]
  },
  {
   "cell_type": "code",
   "execution_count": null,
   "id": "269c4a6f",
   "metadata": {},
   "outputs": [],
   "source": []
  },
  {
   "cell_type": "markdown",
   "id": "ea9f6ccf",
   "metadata": {},
   "source": [
    "### Data preprocessing"
   ]
  },
  {
   "cell_type": "code",
   "execution_count": 47,
   "id": "d2fff7fe",
   "metadata": {},
   "outputs": [],
   "source": [
    "ml = df.copy()"
   ]
  },
  {
   "cell_type": "code",
   "execution_count": 48,
   "id": "0aaec8e3",
   "metadata": {},
   "outputs": [],
   "source": [
    "# ids = ml.ID.tolist()"
   ]
  },
  {
   "cell_type": "code",
   "execution_count": 49,
   "id": "2457a2e1",
   "metadata": {},
   "outputs": [],
   "source": [
    "ml.drop(['ID','Username'],axis=1,inplace=True)"
   ]
  },
  {
   "cell_type": "code",
   "execution_count": 23,
   "id": "c30fd990",
   "metadata": {},
   "outputs": [],
   "source": [
    "le = LabelEncoder()"
   ]
  },
  {
   "cell_type": "code",
   "execution_count": 50,
   "id": "b76838b9",
   "metadata": {},
   "outputs": [
    {
     "data": {
      "text/plain": [
       "c    72458\n",
       "j    72232\n",
       "p    43407\n",
       "i    32400\n",
       "a    31695\n",
       "s    23323\n",
       "h    20564\n",
       "o    14546\n",
       "r    12442\n",
       "x     6978\n",
       "Name: Tag, dtype: int64"
      ]
     },
     "execution_count": 50,
     "metadata": {},
     "output_type": "execute_result"
    }
   ],
   "source": [
    "ml.Tag.value_counts()"
   ]
  },
  {
   "cell_type": "code",
   "execution_count": 54,
   "id": "dd1e3f93",
   "metadata": {},
   "outputs": [],
   "source": [
    "t = []\n",
    "for i in ml.Tag:\n",
    "    if i == 'c':\n",
    "        t.append(1)\n",
    "    elif i == 'j':\n",
    "        t.append(2)\n",
    "    elif i == 'p':\n",
    "        t.append(3)\n",
    "    elif i == 'i':\n",
    "        t.append(4)\n",
    "    elif i == 'a':\n",
    "        t.append(5)\n",
    "    elif i == 's':\n",
    "        t.append(6)\n",
    "    elif i == 'h':\n",
    "        t.append(7)\n",
    "    elif i == 'o':\n",
    "        t.append(8)\n",
    "    elif i == 'r':\n",
    "        t.append(9)\n",
    "    elif i == 'x':\n",
    "        t.append(10)\n",
    "ml['Tag'] = t\n",
    "    "
   ]
  },
  {
   "cell_type": "code",
   "execution_count": 55,
   "id": "4ea4f39e",
   "metadata": {},
   "outputs": [],
   "source": [
    "# ml['Tag'] = le.fit_transform(ml['Tag'])"
   ]
  },
  {
   "cell_type": "code",
   "execution_count": 56,
   "id": "074cf984",
   "metadata": {},
   "outputs": [
    {
     "data": {
      "text/html": [
       "<div>\n",
       "<style scoped>\n",
       "    .dataframe tbody tr th:only-of-type {\n",
       "        vertical-align: middle;\n",
       "    }\n",
       "\n",
       "    .dataframe tbody tr th {\n",
       "        vertical-align: top;\n",
       "    }\n",
       "\n",
       "    .dataframe thead th {\n",
       "        text-align: right;\n",
       "    }\n",
       "</style>\n",
       "<table border=\"1\" class=\"dataframe\">\n",
       "  <thead>\n",
       "    <tr style=\"text-align: right;\">\n",
       "      <th></th>\n",
       "      <th>Tag</th>\n",
       "      <th>Reputation</th>\n",
       "      <th>Answers</th>\n",
       "      <th>Views</th>\n",
       "      <th>Upvotes</th>\n",
       "    </tr>\n",
       "  </thead>\n",
       "  <tbody>\n",
       "    <tr>\n",
       "      <th>0</th>\n",
       "      <td>5</td>\n",
       "      <td>3942.0</td>\n",
       "      <td>2.0</td>\n",
       "      <td>7855.0</td>\n",
       "      <td>42.0</td>\n",
       "    </tr>\n",
       "    <tr>\n",
       "      <th>1</th>\n",
       "      <td>5</td>\n",
       "      <td>26046.0</td>\n",
       "      <td>12.0</td>\n",
       "      <td>55801.0</td>\n",
       "      <td>1175.0</td>\n",
       "    </tr>\n",
       "    <tr>\n",
       "      <th>2</th>\n",
       "      <td>1</td>\n",
       "      <td>1358.0</td>\n",
       "      <td>4.0</td>\n",
       "      <td>8067.0</td>\n",
       "      <td>60.0</td>\n",
       "    </tr>\n",
       "    <tr>\n",
       "      <th>3</th>\n",
       "      <td>5</td>\n",
       "      <td>264.0</td>\n",
       "      <td>3.0</td>\n",
       "      <td>27064.0</td>\n",
       "      <td>9.0</td>\n",
       "    </tr>\n",
       "    <tr>\n",
       "      <th>4</th>\n",
       "      <td>1</td>\n",
       "      <td>4271.0</td>\n",
       "      <td>4.0</td>\n",
       "      <td>13986.0</td>\n",
       "      <td>83.0</td>\n",
       "    </tr>\n",
       "  </tbody>\n",
       "</table>\n",
       "</div>"
      ],
      "text/plain": [
       "   Tag  Reputation  Answers    Views  Upvotes\n",
       "0    5      3942.0      2.0   7855.0     42.0\n",
       "1    5     26046.0     12.0  55801.0   1175.0\n",
       "2    1      1358.0      4.0   8067.0     60.0\n",
       "3    5       264.0      3.0  27064.0      9.0\n",
       "4    1      4271.0      4.0  13986.0     83.0"
      ]
     },
     "execution_count": 56,
     "metadata": {},
     "output_type": "execute_result"
    }
   ],
   "source": [
    "ml.head()"
   ]
  },
  {
   "cell_type": "code",
   "execution_count": 57,
   "id": "05afaa8f",
   "metadata": {},
   "outputs": [],
   "source": [
    "lr = LinearRegression()\n",
    "kn = KNeighborsRegressor()\n",
    "svm = SVR()\n",
    "dt = DecisionTreeRegressor()\n",
    "rf = RandomForestRegressor()\n",
    "gb = GradientBoostingRegressor()\n",
    "adb = AdaBoostRegressor()\n",
    "xgb = XGBRegressor()\n",
    "xgbrf = XGBRFRegressor()\n",
    "cat = CatBoostRegressor(verbose=False)\n",
    "lgb = LGBMRegressor()"
   ]
  },
  {
   "cell_type": "code",
   "execution_count": 58,
   "id": "e6f3a2d3",
   "metadata": {},
   "outputs": [],
   "source": [
    "x = ml.drop('Upvotes',1)\n",
    "y = ml.Upvotes"
   ]
  },
  {
   "cell_type": "code",
   "execution_count": 59,
   "id": "6222a0ed",
   "metadata": {},
   "outputs": [],
   "source": [
    "xtrain, xtest, ytrain, ytest = train_test_split(x,y,test_size=0.2, random_state=44)"
   ]
  },
  {
   "cell_type": "code",
   "execution_count": 60,
   "id": "920ddcb9",
   "metadata": {},
   "outputs": [
    {
     "name": "stdout",
     "output_type": "stream",
     "text": [
      "train_r2   :  0.2394831665248741\n",
      "train rmse :  3298.3828636785997\n",
      "test_r2   :  0.37903979117946995\n",
      "test rmse :  2130.1020117023004\n"
     ]
    }
   ],
   "source": [
    "## train scores\n",
    "lr.fit(xtrain,ytrain)\n",
    "lr_train_pred = lr.predict(xtrain)\n",
    "lr_train_r2 = r2_score(ytrain,lr_train_pred)\n",
    "lr_train_rmse = np.sqrt(mean_squared_error(ytrain,lr_train_pred))\n",
    "print(\"train_r2   : \",lr_train_r2)\n",
    "print(\"train rmse : \",lr_train_rmse)\n",
    "## test scores\n",
    "lr.fit(xtrain,ytrain)\n",
    "lr_test_pred = lr.predict(xtest)\n",
    "lr_test_r2 = r2_score(ytest,lr_test_pred)\n",
    "lr_test_rmse = np.sqrt(mean_squared_error(ytest,lr_test_pred))\n",
    "print(\"test_r2   : \",lr_test_r2)\n",
    "print(\"test rmse : \",lr_test_rmse)"
   ]
  },
  {
   "cell_type": "code",
   "execution_count": 61,
   "id": "9ac1dff0",
   "metadata": {},
   "outputs": [
    {
     "name": "stdout",
     "output_type": "stream",
     "text": [
      "train_r2   :  0.8080929012822688\n",
      "train rmse :  1656.8842502490497\n",
      "test_r2   :  0.818176340694727\n",
      "test rmse :  1152.6400715881487\n"
     ]
    }
   ],
   "source": [
    "## train scores\n",
    "kn.fit(xtrain,ytrain)\n",
    "kn_train_pred = kn.predict(xtrain)\n",
    "kn_train_r2 = r2_score(ytrain,kn_train_pred)\n",
    "kn_train_rmse = np.sqrt(mean_squared_error(ytrain,kn_train_pred))\n",
    "print(\"train_r2   : \",kn_train_r2)\n",
    "print(\"train rmse : \",kn_train_rmse)\n",
    "## test scores\n",
    "kn.fit(xtrain,ytrain)\n",
    "kn_test_pred = kn.predict(xtest)\n",
    "kn_test_r2 = r2_score(ytest,kn_test_pred)\n",
    "kn_test_rmse = np.sqrt(mean_squared_error(ytest,kn_test_pred))\n",
    "print(\"test_r2   : \",kn_test_r2)\n",
    "print(\"test rmse : \",kn_test_rmse)"
   ]
  },
  {
   "cell_type": "code",
   "execution_count": null,
   "id": "d11e71d0",
   "metadata": {},
   "outputs": [],
   "source": []
  },
  {
   "cell_type": "code",
   "execution_count": 62,
   "id": "ae61fd99",
   "metadata": {},
   "outputs": [],
   "source": [
    "# %%time\n",
    "# ## train scores\n",
    "# svm.fit(xtrain,ytrain)\n",
    "# svm_train_pred = svm.predict(xtrain)\n",
    "# svm_train_r2 = r2_score(ytrain,svm_train_pred)\n",
    "# svm_train_rmse = np.sqrt(mean_squared_error(ytrain,svm_train_pred))\n",
    "# print(\"train_r2   : \",svm_train_r2)\n",
    "# print(\"train rmse : \",svm_train_rmse)\n",
    "# ## test scores\n",
    "# svm.fit(xtrain,ytrain)\n",
    "# svm_test_pred = svm.predict(xtest)\n",
    "# svm_test_r2 = r2_score(ytest,svm_test_pred)\n",
    "# svm_test_rmse = np.sqrt(mean_squared_error(ytest,svm_test_pred))\n",
    "# print(\"test_r2   : \",svm_test_r2)\n",
    "# print(\"test rmse : \",svm_test_rmse)"
   ]
  },
  {
   "cell_type": "code",
   "execution_count": 63,
   "id": "5e7cabfa",
   "metadata": {},
   "outputs": [],
   "source": [
    "# %%time\n",
    "# ## train scores\n",
    "# rf.fit(xtrain,ytrain)\n",
    "# rf_train_pred = rf.predict(xtrain)\n",
    "# rf_train_r2 = r2_score(ytrain,rf_train_pred)\n",
    "# rf_train_rmse = np.sqrt(mean_squared_error(ytrain,rf_train_pred))\n",
    "# print(\"train_r2   : \",rf_train_r2)\n",
    "# print(\"train rmse : \",rf_train_rmse)\n",
    "# ## test scores\n",
    "# rf.fit(xtrain,ytrain)\n",
    "# rf_test_pred = rf.predict(xtest)\n",
    "# rf_test_r2 = r2_score(ytest,rf_test_pred)\n",
    "# rf_test_rmse = np.sqrt(mean_squared_error(ytest,rf_test_pred))\n",
    "# print(\"test_r2   : \",rf_test_r2)\n",
    "# print(\"test rmse : \",rf_test_rmse)"
   ]
  },
  {
   "cell_type": "code",
   "execution_count": 64,
   "id": "5bf2a128",
   "metadata": {},
   "outputs": [
    {
     "name": "stdout",
     "output_type": "stream",
     "text": [
      "train_r2   :  0.999999997830733\n",
      "train rmse :  0.1761583186959092\n",
      "test_r2   :  0.7710098281630846\n",
      "test rmse :  1293.5312891606686\n"
     ]
    }
   ],
   "source": [
    "## train scores\n",
    "dt.fit(xtrain,ytrain)\n",
    "dt_train_pred = dt.predict(xtrain)\n",
    "dt_train_r2 = r2_score(ytrain,dt_train_pred)\n",
    "dt_train_rmse = np.sqrt(mean_squared_error(ytrain,dt_train_pred))\n",
    "print(\"train_r2   : \",dt_train_r2)\n",
    "print(\"train rmse : \",dt_train_rmse)\n",
    "## test scores\n",
    "dt.fit(xtrain,ytrain)\n",
    "dt_test_pred = dt.predict(xtest)\n",
    "dt_test_r2 = r2_score(ytest,dt_test_pred)\n",
    "dt_test_rmse = np.sqrt(mean_squared_error(ytest,dt_test_pred))\n",
    "print(\"test_r2   : \",dt_test_r2)\n",
    "print(\"test rmse : \",dt_test_rmse)"
   ]
  },
  {
   "cell_type": "code",
   "execution_count": 65,
   "id": "9d41457c",
   "metadata": {},
   "outputs": [
    {
     "name": "stdout",
     "output_type": "stream",
     "text": [
      "train_r2   :  0.9629807310563165\n",
      "train rmse :  727.7137298308267\n",
      "test_r2   :  0.9079144866824888\n",
      "test rmse :  820.2838733659413\n"
     ]
    }
   ],
   "source": [
    "## train scores\n",
    "gb.fit(xtrain,ytrain)\n",
    "gb_train_pred = gb.predict(xtrain)\n",
    "gb_train_r2 = r2_score(ytrain,gb_train_pred)\n",
    "gb_train_rmse = np.sqrt(mean_squared_error(ytrain,gb_train_pred))\n",
    "print(\"train_r2   : \",gb_train_r2)\n",
    "print(\"train rmse : \",gb_train_rmse)\n",
    "## test scores\n",
    "gb.fit(xtrain,ytrain)\n",
    "gb_test_pred = gb.predict(xtest)\n",
    "gb_test_r2 = r2_score(ytest,gb_test_pred)\n",
    "gb_test_rmse = np.sqrt(mean_squared_error(ytest,gb_test_pred))\n",
    "print(\"test_r2   : \",gb_test_r2)\n",
    "print(\"test rmse : \",gb_test_rmse)"
   ]
  },
  {
   "cell_type": "code",
   "execution_count": 66,
   "id": "3de38dc5",
   "metadata": {},
   "outputs": [
    {
     "name": "stdout",
     "output_type": "stream",
     "text": [
      "train_r2   :  0.9928116268043645\n",
      "train rmse :  320.6726774124088\n",
      "test_r2   :  0.8559136369005813\n",
      "test rmse :  1026.077008770077\n"
     ]
    }
   ],
   "source": [
    "## train scores\n",
    "xgb.fit(xtrain,ytrain)\n",
    "xgb_train_pred = xgb.predict(xtrain)\n",
    "xgb_train_r2 = r2_score(ytrain,xgb_train_pred)\n",
    "xgb_train_rmse = np.sqrt(mean_squared_error(ytrain,xgb_train_pred))\n",
    "print(\"train_r2   : \",xgb_train_r2)\n",
    "print(\"train rmse : \",xgb_train_rmse)\n",
    "## test scores\n",
    "xgb.fit(xtrain,ytrain)\n",
    "xgb_test_pred = xgb.predict(xtest)\n",
    "xgb_test_r2 = r2_score(ytest,xgb_test_pred)\n",
    "xgb_test_rmse = np.sqrt(mean_squared_error(ytest,xgb_test_pred))\n",
    "print(\"test_r2   : \",xgb_test_r2)\n",
    "print(\"test rmse : \",xgb_test_rmse)"
   ]
  },
  {
   "cell_type": "code",
   "execution_count": 67,
   "id": "a343d193",
   "metadata": {},
   "outputs": [
    {
     "name": "stdout",
     "output_type": "stream",
     "text": [
      "train_r2   :  0.9608344578788803\n",
      "train rmse :  748.5119202766799\n",
      "test_r2   :  0.8460619128888314\n",
      "test rmse :  1060.5754247337277\n"
     ]
    }
   ],
   "source": [
    "## train scores\n",
    "xgbrf.fit(xtrain,ytrain)\n",
    "xgbrf_train_pred = xgbrf.predict(xtrain)\n",
    "xgbrf_train_r2 = r2_score(ytrain,xgbrf_train_pred)\n",
    "xgbrf_train_rmse = np.sqrt(mean_squared_error(ytrain,xgbrf_train_pred))\n",
    "print(\"train_r2   : \",xgbrf_train_r2)\n",
    "print(\"train rmse : \",xgbrf_train_rmse)\n",
    "## test scores\n",
    "xgbrf.fit(xtrain,ytrain)\n",
    "xgbrf_test_pred = xgbrf.predict(xtest)\n",
    "xgbrf_test_r2 = r2_score(ytest,xgbrf_test_pred)\n",
    "xgbrf_test_rmse = np.sqrt(mean_squared_error(ytest,xgbrf_test_pred))\n",
    "print(\"test_r2   : \",xgbrf_test_r2)\n",
    "print(\"test rmse : \",xgbrf_test_rmse)"
   ]
  },
  {
   "cell_type": "code",
   "execution_count": 68,
   "id": "3e2103ec",
   "metadata": {},
   "outputs": [
    {
     "name": "stdout",
     "output_type": "stream",
     "text": [
      "train_r2   :  0.9677763615054696\n",
      "train rmse :  678.9439741883238\n",
      "test_r2   :  0.6990207334288645\n",
      "test rmse :  1482.985164972081\n"
     ]
    }
   ],
   "source": [
    "## train scores\n",
    "cat.fit(xtrain,ytrain)\n",
    "cat_train_pred = cat.predict(xtrain)\n",
    "cat_train_r2 = r2_score(ytrain,cat_train_pred)\n",
    "cat_train_rmse = np.sqrt(mean_squared_error(ytrain,cat_train_pred))\n",
    "print(\"train_r2   : \",cat_train_r2)\n",
    "print(\"train rmse : \",cat_train_rmse)\n",
    "## test scores\n",
    "cat.fit(xtrain,ytrain)\n",
    "cat_test_pred = cat.predict(xtest)\n",
    "cat_test_r2 = r2_score(ytest,cat_test_pred)\n",
    "cat_test_rmse = np.sqrt(mean_squared_error(ytest,cat_test_pred))\n",
    "print(\"test_r2   : \",cat_test_r2)\n",
    "print(\"test rmse : \",cat_test_rmse)"
   ]
  },
  {
   "cell_type": "code",
   "execution_count": 69,
   "id": "da4522c8",
   "metadata": {},
   "outputs": [
    {
     "name": "stdout",
     "output_type": "stream",
     "text": [
      "train_r2   :  0.8346103121003544\n",
      "train rmse :  1538.1576991854631\n",
      "test_r2   :  0.7419606925479179\n",
      "test rmse :  1373.129351678018\n"
     ]
    }
   ],
   "source": [
    "## train scores\n",
    "lgb.fit(xtrain,ytrain)\n",
    "lgb_train_pred = lgb.predict(xtrain)\n",
    "lgb_train_r2 = r2_score(ytrain,lgb_train_pred)\n",
    "lgb_train_rmse = np.sqrt(mean_squared_error(ytrain,lgb_train_pred))\n",
    "print(\"train_r2   : \",lgb_train_r2)\n",
    "print(\"train rmse : \",lgb_train_rmse)\n",
    "## test scores\n",
    "lgb.fit(xtrain,ytrain)\n",
    "lgb_test_pred = lgb.predict(xtest)\n",
    "lgb_test_r2 = r2_score(ytest,lgb_test_pred)\n",
    "lgb_test_rmse = np.sqrt(mean_squared_error(ytest,lgb_test_pred))\n",
    "print(\"test_r2   : \",lgb_test_r2)\n",
    "print(\"test rmse : \",lgb_test_rmse)"
   ]
  },
  {
   "cell_type": "code",
   "execution_count": null,
   "id": "b497441f",
   "metadata": {},
   "outputs": [],
   "source": []
  },
  {
   "cell_type": "code",
   "execution_count": 70,
   "id": "98726dc0",
   "metadata": {},
   "outputs": [],
   "source": [
    "evals = pd.DataFrame({'Model':['LR','DT','CAT','LGBM','XGB','GB','XGBRF','KNN'],\n",
    "             'Train_R2':[lr_train_r2,dt_train_r2,cat_train_r2,\n",
    "                         lgb_train_r2,xgb_train_r2,gb_train_r2,xgbrf_train_r2,kn_train_r2],\n",
    "             'Test_R2':[lr_test_r2,dt_test_r2,cat_test_r2,lgb_test_r2,xgb_test_r2,gb_test_r2,xgbrf_test_r2,kn_test_r2],\n",
    "             'Train_RMSE':[lr_train_rmse,dt_train_rmse,cat_train_rmse,\n",
    "                           lgb_train_rmse,xgb_train_rmse,gb_train_rmse,xgbrf_train_rmse,kn_train_rmse],\n",
    "             'Test_RMSE':[lr_test_rmse,dt_test_rmse,cat_test_rmse,\n",
    "                          lgb_test_rmse,xgb_test_rmse,gb_test_rmse,xgbrf_test_rmse,kn_test_rmse]})"
   ]
  },
  {
   "cell_type": "code",
   "execution_count": null,
   "id": "45c0b54f",
   "metadata": {},
   "outputs": [],
   "source": []
  },
  {
   "cell_type": "code",
   "execution_count": 71,
   "id": "4d376401",
   "metadata": {},
   "outputs": [
    {
     "data": {
      "text/html": [
       "<div>\n",
       "<style scoped>\n",
       "    .dataframe tbody tr th:only-of-type {\n",
       "        vertical-align: middle;\n",
       "    }\n",
       "\n",
       "    .dataframe tbody tr th {\n",
       "        vertical-align: top;\n",
       "    }\n",
       "\n",
       "    .dataframe thead th {\n",
       "        text-align: right;\n",
       "    }\n",
       "</style>\n",
       "<table border=\"1\" class=\"dataframe\">\n",
       "  <thead>\n",
       "    <tr style=\"text-align: right;\">\n",
       "      <th></th>\n",
       "      <th>Model</th>\n",
       "      <th>Train_R2</th>\n",
       "      <th>Test_R2</th>\n",
       "      <th>Train_RMSE</th>\n",
       "      <th>Test_RMSE</th>\n",
       "    </tr>\n",
       "  </thead>\n",
       "  <tbody>\n",
       "    <tr>\n",
       "      <th>5</th>\n",
       "      <td>GB</td>\n",
       "      <td>0.962981</td>\n",
       "      <td>0.907914</td>\n",
       "      <td>727.713730</td>\n",
       "      <td>820.283873</td>\n",
       "    </tr>\n",
       "    <tr>\n",
       "      <th>4</th>\n",
       "      <td>XGB</td>\n",
       "      <td>0.992812</td>\n",
       "      <td>0.855914</td>\n",
       "      <td>320.672677</td>\n",
       "      <td>1026.077009</td>\n",
       "    </tr>\n",
       "    <tr>\n",
       "      <th>6</th>\n",
       "      <td>XGBRF</td>\n",
       "      <td>0.960834</td>\n",
       "      <td>0.846062</td>\n",
       "      <td>748.511920</td>\n",
       "      <td>1060.575425</td>\n",
       "    </tr>\n",
       "    <tr>\n",
       "      <th>7</th>\n",
       "      <td>KNN</td>\n",
       "      <td>0.808093</td>\n",
       "      <td>0.818176</td>\n",
       "      <td>1656.884250</td>\n",
       "      <td>1152.640072</td>\n",
       "    </tr>\n",
       "    <tr>\n",
       "      <th>1</th>\n",
       "      <td>DT</td>\n",
       "      <td>1.000000</td>\n",
       "      <td>0.771010</td>\n",
       "      <td>0.176158</td>\n",
       "      <td>1293.531289</td>\n",
       "    </tr>\n",
       "    <tr>\n",
       "      <th>3</th>\n",
       "      <td>LGBM</td>\n",
       "      <td>0.834610</td>\n",
       "      <td>0.741961</td>\n",
       "      <td>1538.157699</td>\n",
       "      <td>1373.129352</td>\n",
       "    </tr>\n",
       "    <tr>\n",
       "      <th>2</th>\n",
       "      <td>CAT</td>\n",
       "      <td>0.967776</td>\n",
       "      <td>0.699021</td>\n",
       "      <td>678.943974</td>\n",
       "      <td>1482.985165</td>\n",
       "    </tr>\n",
       "    <tr>\n",
       "      <th>0</th>\n",
       "      <td>LR</td>\n",
       "      <td>0.239483</td>\n",
       "      <td>0.379040</td>\n",
       "      <td>3298.382864</td>\n",
       "      <td>2130.102012</td>\n",
       "    </tr>\n",
       "  </tbody>\n",
       "</table>\n",
       "</div>"
      ],
      "text/plain": [
       "   Model  Train_R2   Test_R2   Train_RMSE    Test_RMSE\n",
       "5     GB  0.962981  0.907914   727.713730   820.283873\n",
       "4    XGB  0.992812  0.855914   320.672677  1026.077009\n",
       "6  XGBRF  0.960834  0.846062   748.511920  1060.575425\n",
       "7    KNN  0.808093  0.818176  1656.884250  1152.640072\n",
       "1     DT  1.000000  0.771010     0.176158  1293.531289\n",
       "3   LGBM  0.834610  0.741961  1538.157699  1373.129352\n",
       "2    CAT  0.967776  0.699021   678.943974  1482.985165\n",
       "0     LR  0.239483  0.379040  3298.382864  2130.102012"
      ]
     },
     "execution_count": 71,
     "metadata": {},
     "output_type": "execute_result"
    }
   ],
   "source": [
    "evals.sort_values('Test_R2',ascending=False)"
   ]
  },
  {
   "cell_type": "code",
   "execution_count": null,
   "id": "c4d7ae57",
   "metadata": {},
   "outputs": [],
   "source": []
  },
  {
   "cell_type": "code",
   "execution_count": 72,
   "id": "c76b8402",
   "metadata": {},
   "outputs": [],
   "source": [
    "test = pd.read_csv('test_8i3B3FC.csv')"
   ]
  },
  {
   "cell_type": "code",
   "execution_count": 73,
   "id": "8032d595",
   "metadata": {},
   "outputs": [
    {
     "data": {
      "text/html": [
       "<div>\n",
       "<style scoped>\n",
       "    .dataframe tbody tr th:only-of-type {\n",
       "        vertical-align: middle;\n",
       "    }\n",
       "\n",
       "    .dataframe tbody tr th {\n",
       "        vertical-align: top;\n",
       "    }\n",
       "\n",
       "    .dataframe thead th {\n",
       "        text-align: right;\n",
       "    }\n",
       "</style>\n",
       "<table border=\"1\" class=\"dataframe\">\n",
       "  <thead>\n",
       "    <tr style=\"text-align: right;\">\n",
       "      <th></th>\n",
       "      <th>ID</th>\n",
       "      <th>Tag</th>\n",
       "      <th>Reputation</th>\n",
       "      <th>Answers</th>\n",
       "      <th>Username</th>\n",
       "      <th>Views</th>\n",
       "    </tr>\n",
       "  </thead>\n",
       "  <tbody>\n",
       "    <tr>\n",
       "      <th>0</th>\n",
       "      <td>366953</td>\n",
       "      <td>a</td>\n",
       "      <td>5645.0</td>\n",
       "      <td>3.0</td>\n",
       "      <td>50652</td>\n",
       "      <td>33200.0</td>\n",
       "    </tr>\n",
       "    <tr>\n",
       "      <th>1</th>\n",
       "      <td>71864</td>\n",
       "      <td>c</td>\n",
       "      <td>24511.0</td>\n",
       "      <td>6.0</td>\n",
       "      <td>37685</td>\n",
       "      <td>2730.0</td>\n",
       "    </tr>\n",
       "    <tr>\n",
       "      <th>2</th>\n",
       "      <td>141692</td>\n",
       "      <td>i</td>\n",
       "      <td>927.0</td>\n",
       "      <td>1.0</td>\n",
       "      <td>135293</td>\n",
       "      <td>21167.0</td>\n",
       "    </tr>\n",
       "    <tr>\n",
       "      <th>3</th>\n",
       "      <td>316833</td>\n",
       "      <td>i</td>\n",
       "      <td>21.0</td>\n",
       "      <td>6.0</td>\n",
       "      <td>166998</td>\n",
       "      <td>18528.0</td>\n",
       "    </tr>\n",
       "    <tr>\n",
       "      <th>4</th>\n",
       "      <td>440445</td>\n",
       "      <td>i</td>\n",
       "      <td>4475.0</td>\n",
       "      <td>10.0</td>\n",
       "      <td>53504</td>\n",
       "      <td>57240.0</td>\n",
       "    </tr>\n",
       "  </tbody>\n",
       "</table>\n",
       "</div>"
      ],
      "text/plain": [
       "       ID Tag  Reputation  Answers  Username    Views\n",
       "0  366953   a      5645.0      3.0     50652  33200.0\n",
       "1   71864   c     24511.0      6.0     37685   2730.0\n",
       "2  141692   i       927.0      1.0    135293  21167.0\n",
       "3  316833   i        21.0      6.0    166998  18528.0\n",
       "4  440445   i      4475.0     10.0     53504  57240.0"
      ]
     },
     "execution_count": 73,
     "metadata": {},
     "output_type": "execute_result"
    }
   ],
   "source": [
    "test.head()"
   ]
  },
  {
   "cell_type": "code",
   "execution_count": 74,
   "id": "019a1b94",
   "metadata": {},
   "outputs": [
    {
     "name": "stdout",
     "output_type": "stream",
     "text": [
      "<class 'pandas.core.frame.DataFrame'>\n",
      "RangeIndex: 141448 entries, 0 to 141447\n",
      "Data columns (total 6 columns):\n",
      " #   Column      Non-Null Count   Dtype  \n",
      "---  ------      --------------   -----  \n",
      " 0   ID          141448 non-null  int64  \n",
      " 1   Tag         141448 non-null  object \n",
      " 2   Reputation  141448 non-null  float64\n",
      " 3   Answers     141448 non-null  float64\n",
      " 4   Username    141448 non-null  int64  \n",
      " 5   Views       141448 non-null  float64\n",
      "dtypes: float64(3), int64(2), object(1)\n",
      "memory usage: 6.5+ MB\n"
     ]
    }
   ],
   "source": [
    "test.info()"
   ]
  },
  {
   "cell_type": "code",
   "execution_count": 78,
   "id": "df23fda5",
   "metadata": {},
   "outputs": [],
   "source": [
    "ids = test['ID'].tolist()"
   ]
  },
  {
   "cell_type": "code",
   "execution_count": 77,
   "id": "30583355",
   "metadata": {},
   "outputs": [],
   "source": [
    "t = []\n",
    "for i in test.Tag:\n",
    "    if i == 'c':\n",
    "        t.append(1)\n",
    "    elif i == 'j':\n",
    "        t.append(2)\n",
    "    elif i == 'p':\n",
    "        t.append(3)\n",
    "    elif i == 'i':\n",
    "        t.append(4)\n",
    "    elif i == 'a':\n",
    "        t.append(5)\n",
    "    elif i == 's':\n",
    "        t.append(6)\n",
    "    elif i == 'h':\n",
    "        t.append(7)\n",
    "    elif i == 'o':\n",
    "        t.append(8)\n",
    "    elif i == 'r':\n",
    "        t.append(9)\n",
    "    elif i == 'x':\n",
    "        t.append(10)\n",
    "test['Tag'] = t\n",
    "    "
   ]
  },
  {
   "cell_type": "code",
   "execution_count": 79,
   "id": "8f941c64",
   "metadata": {},
   "outputs": [],
   "source": [
    "test.drop(['ID','Username'],axis=1,inplace=True)"
   ]
  },
  {
   "cell_type": "code",
   "execution_count": 80,
   "id": "94e5577a",
   "metadata": {},
   "outputs": [
    {
     "data": {
      "text/html": [
       "<div>\n",
       "<style scoped>\n",
       "    .dataframe tbody tr th:only-of-type {\n",
       "        vertical-align: middle;\n",
       "    }\n",
       "\n",
       "    .dataframe tbody tr th {\n",
       "        vertical-align: top;\n",
       "    }\n",
       "\n",
       "    .dataframe thead th {\n",
       "        text-align: right;\n",
       "    }\n",
       "</style>\n",
       "<table border=\"1\" class=\"dataframe\">\n",
       "  <thead>\n",
       "    <tr style=\"text-align: right;\">\n",
       "      <th></th>\n",
       "      <th>Tag</th>\n",
       "      <th>Reputation</th>\n",
       "      <th>Answers</th>\n",
       "      <th>Views</th>\n",
       "    </tr>\n",
       "  </thead>\n",
       "  <tbody>\n",
       "    <tr>\n",
       "      <th>0</th>\n",
       "      <td>5</td>\n",
       "      <td>5645.0</td>\n",
       "      <td>3.0</td>\n",
       "      <td>33200.0</td>\n",
       "    </tr>\n",
       "    <tr>\n",
       "      <th>1</th>\n",
       "      <td>1</td>\n",
       "      <td>24511.0</td>\n",
       "      <td>6.0</td>\n",
       "      <td>2730.0</td>\n",
       "    </tr>\n",
       "    <tr>\n",
       "      <th>2</th>\n",
       "      <td>4</td>\n",
       "      <td>927.0</td>\n",
       "      <td>1.0</td>\n",
       "      <td>21167.0</td>\n",
       "    </tr>\n",
       "    <tr>\n",
       "      <th>3</th>\n",
       "      <td>4</td>\n",
       "      <td>21.0</td>\n",
       "      <td>6.0</td>\n",
       "      <td>18528.0</td>\n",
       "    </tr>\n",
       "    <tr>\n",
       "      <th>4</th>\n",
       "      <td>4</td>\n",
       "      <td>4475.0</td>\n",
       "      <td>10.0</td>\n",
       "      <td>57240.0</td>\n",
       "    </tr>\n",
       "  </tbody>\n",
       "</table>\n",
       "</div>"
      ],
      "text/plain": [
       "   Tag  Reputation  Answers    Views\n",
       "0    5      5645.0      3.0  33200.0\n",
       "1    1     24511.0      6.0   2730.0\n",
       "2    4       927.0      1.0  21167.0\n",
       "3    4        21.0      6.0  18528.0\n",
       "4    4      4475.0     10.0  57240.0"
      ]
     },
     "execution_count": 80,
     "metadata": {},
     "output_type": "execute_result"
    }
   ],
   "source": [
    "test.head()"
   ]
  },
  {
   "cell_type": "code",
   "execution_count": 90,
   "id": "ef2621e7",
   "metadata": {},
   "outputs": [
    {
     "data": {
      "text/plain": [
       "<catboost.core.CatBoostRegressor at 0x7f0007457940>"
      ]
     },
     "execution_count": 90,
     "metadata": {},
     "output_type": "execute_result"
    }
   ],
   "source": [
    "cat.fit(x,y)"
   ]
  },
  {
   "cell_type": "code",
   "execution_count": 91,
   "id": "3e46554d",
   "metadata": {},
   "outputs": [],
   "source": [
    "import pickle"
   ]
  },
  {
   "cell_type": "code",
   "execution_count": 92,
   "id": "0bbd209d",
   "metadata": {},
   "outputs": [],
   "source": [
    "pickle.dump(cat, open('catboost.pkl', 'wb'))"
   ]
  },
  {
   "cell_type": "code",
   "execution_count": 98,
   "id": "afd9e919",
   "metadata": {},
   "outputs": [],
   "source": [
    "model = pickle.load(open('gradient_boost.pkl' , 'rb'))"
   ]
  },
  {
   "cell_type": "code",
   "execution_count": 99,
   "id": "9674b6f7",
   "metadata": {},
   "outputs": [],
   "source": [
    "final = model.predict(test)"
   ]
  },
  {
   "cell_type": "code",
   "execution_count": 100,
   "id": "d468102b",
   "metadata": {},
   "outputs": [],
   "source": [
    "final_preds = pd.DataFrame({'ID':ids,'Upvotes':np.absolute(final)})"
   ]
  },
  {
   "cell_type": "code",
   "execution_count": 101,
   "id": "35c6e7af",
   "metadata": {},
   "outputs": [],
   "source": [
    "final_preds.to_csv('exp1_gb_base.csv',index=False)"
   ]
  },
  {
   "cell_type": "code",
   "execution_count": null,
   "id": "fd6b7608",
   "metadata": {},
   "outputs": [],
   "source": []
  }
 ],
 "metadata": {
  "kernelspec": {
   "display_name": "Python 3 (ipykernel)",
   "language": "python",
   "name": "python3"
  },
  "language_info": {
   "codemirror_mode": {
    "name": "ipython",
    "version": 3
   },
   "file_extension": ".py",
   "mimetype": "text/x-python",
   "name": "python",
   "nbconvert_exporter": "python",
   "pygments_lexer": "ipython3",
   "version": "3.8.12"
  }
 },
 "nbformat": 4,
 "nbformat_minor": 5
}
